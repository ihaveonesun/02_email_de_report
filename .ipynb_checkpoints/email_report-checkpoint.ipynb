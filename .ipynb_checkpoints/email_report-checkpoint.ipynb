{
 "cells": [
  {
   "cell_type": "markdown",
   "id": "cdfe433b",
   "metadata": {},
   "source": [
    "### Importando bibliotecas utilizadas"
   ]
  },
  {
   "cell_type": "code",
   "execution_count": null,
   "id": "1d329469",
   "metadata": {},
   "outputs": [],
   "source": [
    "import yagmail\n",
    "import pandas as pd\n",
    "from pathlib import Path\n",
    "import matplotlib.pyplot as plt"
   ]
  },
  {
   "cell_type": "markdown",
   "id": "fac9bd66",
   "metadata": {},
   "source": [
    "### autenticando no email"
   ]
  },
  {
   "cell_type": "code",
   "execution_count": null,
   "id": "a005c444",
   "metadata": {},
   "outputs": [],
   "source": [
    "login = # insira o seu email, ou use outro método para atribuir valores à login e senha\n",
    "senha = # insira sua senha\n",
    "usuario = yagmail.SMTP(user = login, password = senha)"
   ]
  },
  {
   "cell_type": "markdown",
   "id": "f179a299",
   "metadata": {},
   "source": [
    "### importando os endereços de email"
   ]
  },
  {
   "cell_type": "code",
   "execution_count": null,
   "id": "dc31f90f",
   "metadata": {},
   "outputs": [],
   "source": [
    "gerentes_df = pd.read_excel(r'Desafio Email/Enviar E-mails.xlsx')"
   ]
  },
  {
   "cell_type": "markdown",
   "id": "e5e3e318",
   "metadata": {},
   "source": [
    "### atribuindo dados as variáveis"
   ]
  },
  {
   "cell_type": "code",
   "execution_count": null,
   "id": "246dec7d",
   "metadata": {},
   "outputs": [],
   "source": [
    "nomes = gerentes_df['Gerente']\n",
    "emails = gerentes_df['E-mail']\n",
    "areas = gerentes_df['Relatório']"
   ]
  },
  {
   "cell_type": "markdown",
   "id": "e89b7fd8",
   "metadata": {},
   "source": [
    "### Laço de repetição que para cada nome de gerente, efetua as seguintes rotinas a seguir:"
   ]
  },
  {
   "cell_type": "code",
   "execution_count": null,
   "id": "bdf7438b",
   "metadata": {},
   "outputs": [],
   "source": [
    "for i, nome in enumerate(nomes):\n",
    "    \n",
    "    # extraindo valores da planilha de cada área por vez\n",
    "    area_df = pd.read_excel(Path(r'Desafio Email/{}.xlsx'.format(areas[i])))\n",
    "    \n",
    "    area = dict(area_df)            # muda o dataframe para um dicionário\n",
    "    titles = list(area.keys())\n",
    "    values = list(area.values())\n",
    "    x = values[0]                   # valores de índice para referência\n",
    "    y = values[1]                   # valores de cada indicador como data, juros, total de funcionários, etc.\n",
    "    \n",
    "    # gerando o gráfico e alterando seus títulos conforme os indicadores\n",
    "    plt.plot(x, y, 'd-')\n",
    "    plt.xlabel(titles[0])\n",
    "    plt.ylabel(titles[1])\n",
    "    \n",
    "    # salvando os gráficos conforme o nome de cada área/setor\n",
    "    plt.savefig(r'Desafio Email/img_{}.png'.format(areas[i]))\n",
    "    plt.show()                      # após salvar, precisa mostrar a imagem para renderizar no save corretamente.\n",
    "    \n",
    "    # enviando email com assunto, conteúdo e anexando a planilha de dados e a imagem imbutida para cada área\n",
    "    usuario.send(to = '{}'.format(emails[i]), subject = 'Relatório para o Gerente de {}'.format(areas[i]), \\\n",
    "                contents = 'Prezado(a) Gerente {}.\\nSegue em anexo o Relatório de {}.\\nPrévia:\\n'.format(nome, titles[1]),\n",
    "                attachments = [Path(r'Desafio Email/{}.xlsx'.format(areas[i])), \\\n",
    "                yagmail.inline(Path(r'Desafio Email/img_{}.png'.format(areas[i])))]\n",
    "                )    "
   ]
  }
 ],
 "metadata": {
  "kernelspec": {
   "display_name": "Python 3 (ipykernel)",
   "language": "python",
   "name": "python3"
  },
  "language_info": {
   "codemirror_mode": {
    "name": "ipython",
    "version": 3
   },
   "file_extension": ".py",
   "mimetype": "text/x-python",
   "name": "python",
   "nbconvert_exporter": "python",
   "pygments_lexer": "ipython3",
   "version": "3.8.8"
  }
 },
 "nbformat": 4,
 "nbformat_minor": 5
}
